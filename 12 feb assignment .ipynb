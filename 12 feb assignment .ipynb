{
 "cells": [
  {
   "cell_type": "code",
   "execution_count": null,
   "id": "61c8a921-34e5-49fb-923b-09e0c9c993a0",
   "metadata": {},
   "outputs": [],
   "source": [
    "Ans = 1\n",
    "An Exception in Python refers to an unexpected or erroneous event that occurs during the execution of a program. \n",
    "These events could be caused by a variety of factors, such as invalid user input, system errors, or network failures.\n",
    "\n",
    "Exceptions and Syntax Errors are two different concepts in Python. Exceptions are raised during runtime when there is an unexpected event, while Syntax Errors occur during the compilation of the program due to improper syntax or grammar. \n",
    "NameError is an example of a runtime error that occurs when a name or variable is not defined, which is different from Exceptions."
   ]
  },
  {
   "cell_type": "code",
   "execution_count": null,
   "id": "59a102c0-586c-442d-9629-4a1f8d771d2f",
   "metadata": {},
   "outputs": [],
   "source": [
    "Ans = 2\n",
    "When an exception is not handled in Python, it will propagate up the call stack until it reaches the highest-level function in the program. If the exception is not caught by any of the functions in the call stack, \n",
    "the Python interpreter will terminate the program and display an error message that describes the unhandled exception.\n",
    "\n",
    "ex:\n",
    "    try:\n",
    "    with open('myfile.txt', 'r') as f:\n",
    "        content = f.read()\n",
    "except FileNotFoundError:\n",
    "    print('File not found!')\n"
   ]
  },
  {
   "cell_type": "code",
   "execution_count": null,
   "id": "20e3d7aa-a87a-41c8-b140-8410bbffeda0",
   "metadata": {},
   "outputs": [],
   "source": [
    "Ans = 3\n",
    "try:\n",
    "    num1 = int(input(\"Enter a number: \"))\n",
    "    num2 = int(input(\"Enter another number: \"))\n",
    "    result = num1 / num2\n",
    "    print(\"The result is:\", result)\n",
    "except ValueError:\n",
    "    print(\"Please enter a valid integer.\")\n",
    "except ZeroDivisionError:\n",
    "    print(\"Division by zero is not allowed.\")\n"
   ]
  },
  {
   "cell_type": "code",
   "execution_count": null,
   "id": "1b45d25b-cb4c-4929-b45e-9b07f08ee007",
   "metadata": {},
   "outputs": [],
   "source": [
    "Ans = 4\n",
    "try:\n",
    "    file = open(\"example.txt\", \"r\")\n",
    "    try:\n",
    "        content = file.read()\n",
    "    except:\n",
    "        print(\"An error occurred while reading the file.\")\n",
    "    else:\n",
    "        print(\"The content of the file is:\\n\", content)\n",
    "    finally:\n",
    "        file.close()\n",
    "        print(\"File has been closed successfully.\")\n",
    "        if content == \"\":\n",
    "            raise ValueError(\"File is empty.\")\n",
    "except ValueError as e:\n",
    "    print(\"An error occurred:\", e)\n"
   ]
  },
  {
   "cell_type": "code",
   "execution_count": null,
   "id": "57582a30-b9e0-4ec1-8fcc-4be4206613f5",
   "metadata": {},
   "outputs": [],
   "source": [
    "Ans = 5\n",
    "class OutOfStockError(Exception):\n",
    "    def __init__(self, message):\n",
    "        self.message = message\n",
    "\n",
    "    def __str__(self):\n",
    "        return self.message\n",
    "\n",
    "def purchase_item(item_name, quantity):\n",
    "    if quantity > 10:\n",
    "        raise OutOfStockError(f\"{item_name} is out of stock.\")\n",
    "    else:\n",
    "        print(f\"Purchased {quantity} {item_name}(s).\")\n",
    "\n",
    "try:\n",
    "    purchase_item(\"apple\", 15)\n",
    "except OutOfStockError as e:\n",
    "    print(\"An error occurred:\", e)\n"
   ]
  },
  {
   "cell_type": "code",
   "execution_count": null,
   "id": "00fe08de-6e4e-466e-89d3-954f6362d691",
   "metadata": {},
   "outputs": [],
   "source": [
    "Ans = 6\n",
    "class NegativeNumberError(Exception):\n",
    "    def __init__(self, message):\n",
    "        self.message = message\n",
    "\n",
    "    def __str__(self):\n",
    "        return self.message\n",
    "\n",
    "def calculate_square_root(number):\n",
    "    if number < 0:\n",
    "        raise NegativeNumberError(\"Cannot calculate square root of negative number\")\n",
    "    else:\n",
    "        return number ** 0.5\n",
    "\n",
    "try:\n",
    "    calculate_square_root(-9)\n",
    "except NegativeNumberError as e:\n",
    "    print(\"An error occurred:\", e)\n"
   ]
  }
 ],
 "metadata": {
  "kernelspec": {
   "display_name": "Python 3 (ipykernel)",
   "language": "python",
   "name": "python3"
  },
  "language_info": {
   "codemirror_mode": {
    "name": "ipython",
    "version": 3
   },
   "file_extension": ".py",
   "mimetype": "text/x-python",
   "name": "python",
   "nbconvert_exporter": "python",
   "pygments_lexer": "ipython3",
   "version": "3.10.8"
  }
 },
 "nbformat": 4,
 "nbformat_minor": 5
}
